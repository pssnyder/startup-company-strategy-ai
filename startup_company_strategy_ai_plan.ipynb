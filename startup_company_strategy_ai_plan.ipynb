{
 "cells": [
  {
   "cell_type": "markdown",
   "metadata": {},
   "source": [
    "# Project Phoenix: RTS Strategy Dashboard\n",
    "\n",
    "**Goal:** Develop a standalone web application to parse Startup Company save files (`sg_*.json`), integrate static game data (from the wiki), and provide Gemini-powered strategic insights. This notebook serves as the comprehensive blueprint and data dictionary for external development.\n",
    "\n",
    "**Motto:** Solve. The. Problem. (By processing the data efficiently.)\n",
    "\n",
    "---"
   ]
  },
  {
   "cell_type": "markdown",
   "metadata": {},
   "source": [
    "## 1. Architectural Philosophy (High Cohesion / Low Coupling)\n",
    "\n",
    "This architecture is designed for modularity and maintainability, separating static game rules from dynamic save data and AI decision-making (the Gemini Layer).\n",
    "\n",
    "| Layer | Responsibility | Data Source |\n",
    "| :--- | :--- | :--- |\n",
    "| **Data Layer** | Stores static game facts (The \"Known Universe\"). | Parsed `game_component_database.md` JSON (or Firebase/Firestore) |\n",
    "| **Input Layer** | Ingests raw game data (The \"Current Reality\"). | User-uploaded JSON Save File Parser |\n",
    "| **Calculation Layer**| Processes reality against the known universe. | Python/JavaScript/React Hooks |\n",
    "| **Strategy Layer**| Provides actionable insights and natural language explanations. | **Gemini API Call** (The AI Co-op layer) |\n",
    "| **Presentation Layer**| Displays critical metrics clearly and visually. | React (Single Page App) / Tailwind CSS |"
   ]
  },
  {
   "cell_type": "markdown",
   "metadata": {},
   "source": [
    "## 2. Key Save File Data Structure Paths (Input Layer)\n",
    "\n",
    "The core functionality relies on accurately extracting the following values from the user-provided `sg_*.json` save file. These paths should be robustly handled by the JSON parser.\n",
    "\n",
    "| Metric | JSON Path Snippet | Type | Example Use in App |\n",
    "| :--- | :--- | :--- | :--- |\n",
    "| **Cash-on-Hand** | `.balance` | Number | **Runway Calculation** (Cash / Burn Rate) |\n",
    "| **Game Time** | `.date`, `.started` | String (Timestamp) | **Time Tracking** and historical analysis |\n",
    "| **Total Users** | `.progress.products[0].users.total` | Number | **Growth Tracking** (Registered Users) |\n",
    "| **Satisfaction** | `.progress.products[0].users.satisfaction` | Number (0-100) | **CRITICAL ALERT** (The 50% warning) |\n",
    "| **Feature Quality** | `.featureInstances[i].quality.current` | Number | **Q/E Gap Analysis** |\n",
    "| **Feature Efficiency** | `.featureInstances[i].efficiency.current` | Number | **Q/E Gap Analysis** |\n",
    "| **Current Inventory** | `.inventory.[ComponentName]` | Object (Counts) | **Production Shortfall Calculation** |\n",
    "| **Employee Salaries**| `.office.workstations[i].employee.salary` | Number | **Monthly Burn Rate** calculation |\n",
    "| **Transactions** | `.transactions` | Array of Objects | **Financial Audit Log** (for display) |\n",
    "| **Total Employees**| `len(.office.workstations)` | Number | **WIP Utilization** calculation |\n",
    "\n",
    "### Code Snippet: Parsing a Key Feature Status\n",
    "\n",
    "The application should iterate through the `products` array and their `featureInstances` to collect current metrics. This is essential for the Q/E Gap Analysis."
   ]
  },
  {
   "cell_type": "code",
   "execution_count": null,
   "metadata": {},
   "outputs": [],
   "source": [
    "// Example JavaScript/Python logic to extract feature status\n",
    "function get_feature_status(save_data) {\n",
    "    const features = save_data.featureInstances.map(f => ({\n",
    "        name: f.featureName,\n",
    "        current_quality: f.quality.current,\n",
    "        max_quality: f.quality.max,\n",
    "        current_efficiency: f.efficiency.current,\n",
    "        max_efficiency: f.efficiency.max,\n",
    "        required_module: f.requirements // Use this to check upgrade needs\n",
    "    }));\n",
    "    return features;\n",
    "}\n",
    "\n",
    "// In Python (using a pseudo-code JSON library)\n",
    "# feature_data = save_data['featureInstances']"
   ]
  },
  {
   "cell_type": "markdown",
   "metadata": {},
   "source": [
    "## 3. The Strategy Layer (Gemini API Integration)\n",
    "\n",
    "The Gemini API will be utilized to provide the **actionable, natural language strategy** based on the calculated metrics, fulfilling the 'AI Co-op' persona.\n",
    "\n",
    "### Prompt Structure for Strategic Recommendation (Prompt 1)\n",
    "\n",
    "**System Instruction (Persona):**\n",
    "```\n",
    "Act as a world-class strategic Product Owner for an ambitious startup. Your goal is to maximize efficiency (low coupling, high cohesion) and reduce financial risk. Provide a concise, multi-step action plan for the next 5 in-game days.\n",
    "```\n",
    "\n",
    "**User Query (Inputs):**\n",
    "```\n",
    "The current game state is:\n",
    "1. CRITICAL: User Satisfaction is only [50%] (Target > 75%).\n",
    "2. RISK: Monthly Net Burn is [-$74,300]. Runway is [2.19 Months].\n",
    "3. TEAM: We have [9] employees (high-speed Devs/Designers) that are [30%] utilized.\n",
    "4. GOAL: Fix Low Satisfaction by upgrading Landing Page Q/E to Level 50.\n",
    "5. INVENTORY SHORTFALL: We need [X] Frontend Modules and [Y] Interface Modules. Current inventory: [Z] UI Component.\n",
    "\n",
    "Based on this data, what is the exact Production Plan for our team to fix satisfaction and minimize waste?"
   ]
  },
  {
   "cell_type": "code",
   "execution_count": null,
   "metadata": {},
   "outputs": [],
   "source": [
    "const generateGeminiStrategy = async (metrics, componentShortfall) => {\n",
    "    const systemPrompt = \"Act as a world-class strategic Product Owner for an ambitious startup. Your goal is to maximize efficiency (low coupling, high cohesion) and reduce financial risk. Provide a concise, multi-step action plan for the next 5 in-game days.\";\n",
    "    \n",
    "    const userQuery = `The current game state is: CRITICAL: User Satisfaction is only ${metrics.satisfaction}% (Target > 75%). RISK: Monthly Net Burn is ${metrics.burnRate}. Runway is ${metrics.runway}. TEAM: We have ${metrics.teamSize} employees that are ${metrics.utilization}% utilized. GOAL: Fix Low Satisfaction by upgrading Landing Page Q/E. INVENTORY SHORTFALL: We urgently need ${componentShortfall.neededModules} and ${componentShortfall.neededComponents}. What is the exact Production Plan for our team to fix satisfaction and minimize waste?`;\n",
    "    \n",
    "    const apiKey = \"\"; // Using placeholder, runtime provides key.\n",
    "    const apiUrl = `https://generativelanguage.googleapis.com/v1beta/models/gemini-2.5-flash-preview-05-20:generateContent?key=${apiKey}`;\n",
    "\n",
    "    // ... (rest of fetch logic using provided API integration instructions)\n",
    "    // Implement exponential backoff for retries.\n",
    "}\n"
   ]
  },
  {
   "cell_type": "markdown",
   "metadata": {},
   "source": [
    "## 4. Key References for Game Rules (Data Layer / Knowledge Base)\n",
    "\n",
    "These are the essential pages on the unofficial wiki (`https://startupcompany.fandom.com/wiki/Startup_Company_Wiki`) that developers will need to translate game rules into the static JSON database.\n",
    "\n",
    "| Reference Area | Key Wiki Page | Data to Extract |\n",
    "| :--- | :--- | :--- |\n",
    "| **Components/Modules** | `/Component` | Production Recipes and required employee roles. |\n",
    "| **Features** | `/Feature` | Component requirements for launching and upgrading each feature (Q/E). |\n",
    "| **Employees/Skills** | `/Employee_Type` | Base salary ranges, required furniture/benefits for satisfaction, and skill caps. |\n",
    "| **Hosting/Servers** | `/Hosting` | Base costs and CU provided by virtual/physical servers. |\n",
    "\n",
    "---"
   ]
  },
  {
   "cell_type": "markdown",
   "metadata": {},
   "source": [
    "## 5. Next Steps for Development\n",
    "\n",
    "1. **Implement JSON Parser:** Create the initial script to reliably read and parse the core metrics from the game's JSON save file (Section 2).\n",
    "2. **Build Static Database:** Convert the data extracted from the wiki (Section 4, also reflected in `game_component_database.md`) into a structured JSON object.\n",
    "3. **Wire Calculation Layer:** Implement the core calculation logic (Runway, Satisfaction Check, Q/E Gap, and Component Shortfall).\n",
    "4. **Integrate Gemini:** Connect the output of the Calculation Layer to the Strategy Layer (Gemini API) using the defined prompt structure (Section 3)."
   ]
  }
 ],
 "metadata": {
  "kernelspec": {
   "display_name": "Python 3",
   "language": "python",
   "name": "python3"
  },
  "language_info": {
   "codemirror_mode": {
    "name": "ipython",
    "version": 3
   },
   "file_extension": ".py",
   "mimetype": "text/x-python",
   "name": "python",
   "nbconvert_exporter": "python",
   "pygments_lexer": "ipython3",
   "version": "3.10.0"
  }
 },
 "nbformat": 4,
 "nbformat_minor": 5
}
